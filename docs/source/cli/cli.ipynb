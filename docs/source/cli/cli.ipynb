{
 "cells": [
  {
   "cell_type": "code",
   "execution_count": 1,
   "metadata": {
    "editable": true,
    "nbsphinx": "hidden",
    "slideshow": {
     "slide_type": ""
    },
    "tags": [
     "remove-cell"
    ]
   },
   "outputs": [],
   "source": [
    "%matplotlib inline"
   ]
  },
  {
   "cell_type": "markdown",
   "metadata": {
    "editable": true,
    "slideshow": {
     "slide_type": ""
    },
    "tags": []
   },
   "source": [
    "# Command line interface\n",
    "\n",
    "The harissa package provides a command line interface (cli).\n",
    "Once the package is installed, a `harissa` program can be run from your terminal.\n",
    "It allows people to use the package main functionalities without having to code any python lines.\n",
    "Of course, you are welcome to use the [python API](../modules.md) if the cli doesn't satisfy your needs.\n",
    "\n",
    "The cli provides 5 commands:\n",
    "\n",
    "* infer\n",
    "* trajectory\n",
    "* dataset\n",
    "* visualize\n",
    "* convert\n"
   ]
  },
  {
   "cell_type": "markdown",
   "metadata": {
    "editable": true,
    "raw_mimetype": "text/restructuredtext",
    "slideshow": {
     "slide_type": ""
    },
    "tags": []
   },
   "source": [
    ":::{warning}\n",
    "The followings code cells start with an exclamation mark. \n",
    "It is there to run terminal commands from this jupyter notebook, make sure to remove it when you run commands from your terminal.\n",
    ":::"
   ]
  },
  {
   "cell_type": "markdown",
   "metadata": {},
   "source": [
    "## Format file\n",
    "\n",
    "The package `harissa` use [numpy arrays](https://numpy.org/doc/stable/reference/arrays.html) to infer or simulate.\n",
    "\n",
    "The following commands need to access arrays through files. \n",
    "`Numpy` provides file formats to export or import arrays:\n",
    "\n",
    "* `npz`: multiple arrays inside 1 binary (compressed) file\n",
    "* `npy`: 1 array inside a binary file\n",
    "* `txt`: 1 array inside a text file\n",
    "\n",
    "We decided to accept only  `npz` file or folder containing `txt` files.\n",
    "We kept the `txt` files format because it allows to edit arrays easily.\n",
    "\n",
    ":::{tip}\n",
    "By default the output format is `.npz`, this format is compacted but it is not editable.\n",
    "To generate editable output you can use the option `-f txt` for all the commands except convert.\n",
    "\n",
    "You can also use the convert command to do it.\n",
    "\n",
    "Once you finish the modification to some data you can convert it back to `.npz` thanks to the convert command.\n",
    ":::\n"
   ]
  },
  {
   "cell_type": "markdown",
   "metadata": {
    "editable": true,
    "slideshow": {
     "slide_type": ""
    },
    "tags": []
   },
   "source": [
    "## Commands\n",
    "\n",
    "The following examples are typical uses of the commands.\n",
    "Each command has its own options, to see all the options please check [this section](#help-message).\n",
    "\n",
    ":::{tip}\n",
    "By default the output name is deduced from the parameters and it is placed in the current directory, you can use the option `-o` to change it.\n",
    ":::"
   ]
  },
  {
   "cell_type": "markdown",
   "metadata": {
    "raw_mimetype": "text/restructuredtext"
   },
   "source": [
    "### Infer\n",
    "\n",
    "The `infer` sub command infers a network parameter from a dataset.\n",
    "The command can be run by typing:\n",
    "```console\n",
    "$ harissa infer path/to/dataset\n",
    "```"
   ]
  },
  {
   "cell_type": "code",
   "execution_count": 2,
   "metadata": {
    "tags": [
     "remove-cell"
    ]
   },
   "outputs": [
    {
     "name": "stdout",
     "output_type": "stream",
     "text": [
      "WARNING: a <= 0\n",
      "WARNING: a <= 0\n",
      "WARNING: a <= 0\n",
      "data_inference_result.npz\n",
      "\u001b[0m"
     ]
    }
   ],
   "source": [
    "!harissa infer data/data.txt"
   ]
  },
  {
   "cell_type": "markdown",
   "metadata": {},
   "source": [
    ":::{note}\n",
    "For backward compatibility the [old format](https://github.com/ulysseherbach/harissa?tab=readme-ov-file#basic-usage) is supported.\n",
    "\n",
    "```console\n",
    "$ harissa infer path/to/dataset.txt\n",
    "```\n",
    "\n",
    ":::"
   ]
  },
  {
   "cell_type": "markdown",
   "metadata": {},
   "source": [
    "To choose a method of inference, you need to add **after the options of `infer`**\n",
    "the name of the wanted method (followed by more options).\n",
    "\n",
    "```console\n",
    "$ harissa infer path/to/dataset hartree\n",
    "$ harissa infer path/to/dataset hartree --verbose\n",
    "```\n"
   ]
  },
  {
   "cell_type": "code",
   "execution_count": 3,
   "metadata": {
    "editable": true,
    "nbsphinx": "hidden",
    "slideshow": {
     "slide_type": ""
    },
    "tags": [
     "remove-cell"
    ]
   },
   "outputs": [
    {
     "data": {
      "image/png": "[encoded data removed]",
      "text/plain": [
       "<Figure size 39.3701x39.3701 with 1 Axes>"
      ]
     },
     "metadata": {},
     "output_type": "display_data"
    }
   ],
   "source": [
    "import numpy as np\n",
    "from harissa.plot import build_pos, plot_network\n",
    "\n",
    "cutoff = 1.0\n",
    "inter = np.load('data_inference_result.npz')['interaction']\n",
    "inter = (np.abs(inter) > cutoff) * inter\n",
    "plot_network(inter, build_pos(inter), scale=2)"
   ]
  },
  {
   "cell_type": "markdown",
   "metadata": {},
   "source": [
    "### Trajectory\n",
    "\n",
    "The `trajectory` command simulate a trajectory of a single cell.\n",
    "It needs a path to the simulation parameters and a network parameter.\n",
    "You can run the command by typing:\n",
    "\n",
    "```console  \n",
    "$ harissa trajectory path/to/simulation_param path/to/network_param\n",
    "```\n",
    "\n",
    "To choose a method of simulation, you need to add **after the options of `trajectory`**\n",
    "the name of the wanted method (followed by more options).\n",
    "\n",
    "```console\n",
    "$ harissa trajectory path/to/simulation_param path/to/network_param ode\n",
    "$ harissa trajectory path/to/simulation_param path/to/network_param ode --verbose\n",
    "```"
   ]
  },
  {
   "cell_type": "markdown",
   "metadata": {},
   "source": [
    "### Dataset\n",
    "\n",
    "The `dataset` command simulate `**TODO** description`.\n",
    "The output dataset will have the same cell number and the same time points than input dataset.\n",
    "\n",
    "It needs a path to a dataset and a network parameter.\n",
    "You can run the command by typing:\n",
    "\n",
    "```console \n",
    "$ harissa dataset path/to/dataset path/to/network_param\n",
    "```\n",
    "\n",
    "To choose a method of simulation, you need to add **after the options of `dataset`**\n",
    "the name of the wanted method (followed by more options).\n",
    "\n",
    "```console\n",
    "$ harissa dataset path/to/dataset path/to/network_param ode\n",
    "$ harissa dataset path/to/dataset path/to/network_param ode --verbose\n",
    "```"
   ]
  },
  {
   "cell_type": "markdown",
   "metadata": {},
   "source": [
    "### Convert\n",
    "\n",
    "This `convert` command convert an `npz` file to folder containing `txt` arrays and vice versa.\n",
    "\n",
    "It takes \n",
    "You can run the command by typing:\n",
    "\n",
    "```console \n",
    "$ harissa convert path/to/file\n",
    "```\n",
    "\n",
    "If you want to decide the output path you should run:\n",
    "\n",
    "```console\n",
    "$ harissa convert path/to/file output/path\n",
    "```"
   ]
  },
  {
   "cell_type": "markdown",
   "metadata": {},
   "source": [
    ":::{note}\n",
    "Normally it accepts only `npz` file and directory but it also allows you to convert an [old format](https://github.com/ulysseherbach/harissa?tab=readme-ov-file#basic-usage) dataset (an `txt` file) to the new format (`npz` or folder containing `txt`).\n",
    "\n",
    "```console\n",
    "$ harissa convert path/to/dataset.txt\n",
    "```\n",
    ":::"
   ]
  },
  {
   "cell_type": "markdown",
   "metadata": {},
   "source": [
    "### Visualize\n",
    "\n",
    "The `visualize` command compare 2 datasets and export the comparison.\n",
    "\n",
    "It takes a reference dataset and a dataset.\n",
    "You can run the command by typing:\n",
    "\n",
    "```console\n",
    "$ harissa visualize path/to/ref_dataset path/to/dataset\n",
    "```\n",
    "\n",
    "### Arguments from file\n",
    "\n",
    "With all these options, the command line can be long and it become exhausting to modify it inside the terminal.\n",
    "\n",
    "To ease it, you can write the arguments inside a `.txt` file.\n",
    "\n",
    "Then you can run:\n",
    "\n",
    "```console\n",
    "$ harissa @args.txt\n",
    "```\n"
   ]
  },
  {
   "cell_type": "markdown",
   "metadata": {},
   "source": [
    "## Help message\n",
    "\n",
    "You can always display available options with an help message by using `-h` option.\n",
    "\n",
    "### Global help\n",
    "\n",
    "For example to display the command list:"
   ]
  },
  {
   "cell_type": "code",
   "execution_count": 4,
   "metadata": {},
   "outputs": [
    {
     "name": "stdout",
     "output_type": "stream",
     "text": [
      "usage: harissa [-h] [-V] {infer,trajectory,dataset,visualize,convert} ...\n",
      "\n",
      "Tools for mechanistic gene network inference from single-cell data\n",
      "\n",
      "options:\n",
      "  -h, --help            show this help message and exit\n",
      "  -V, --version         show program's version number and exit\n",
      "\n",
      "commands:\n",
      "  {infer,trajectory,dataset,visualize,convert}\n",
      "    infer               infer help\n",
      "    trajectory          simulate a trajectory\n",
      "    dataset             simulate a dataset\n",
      "    visualize           visualize help\n",
      "    convert             convert help\n"
     ]
    }
   ],
   "source": [
    "!harissa -h"
   ]
  },
  {
   "cell_type": "markdown",
   "metadata": {},
   "source": [
    "### Commands options\n",
    "\n",
    "To display the commands options, you can display its help message by adding the `-h` option after the command name.\n",
    "\n",
    "#### Infer help"
   ]
  },
  {
   "cell_type": "code",
   "execution_count": 5,
   "metadata": {},
   "outputs": [
    {
     "name": "stdout",
     "output_type": "stream",
     "text": [
      "usage: harissa infer [-h] [-f {npz,txt}] [-o OUTPUT] [--save-plot]\n",
      "                     [--cut-off CUT_OFF] [--save-extra]\n",
      "                     dataset_path {hartree} ...\n",
      "\n",
      "positional arguments:\n",
      "  dataset_path          path to data file\n",
      "\n",
      "options:\n",
      "  -h, --help            show this help message and exit\n",
      "  -f {npz,txt}, --format {npz,txt}\n",
      "                        output's format. (default: npz)\n",
      "  -o OUTPUT, --output OUTPUT\n",
      "                        output path. It is a directory if the format is txt\n",
      "                        else it is a .npz file. (default: None)\n",
      "  --save-plot\n",
      "  --cut-off CUT_OFF     method help (default: 1.0)\n",
      "  --save-extra\n",
      "\n",
      "inference methods:\n",
      "  {hartree}\n"
     ]
    }
   ],
   "source": [
    "!harissa infer -h"
   ]
  },
  {
   "cell_type": "code",
   "execution_count": 6,
   "metadata": {},
   "outputs": [
    {
     "name": "stdout",
     "output_type": "stream",
     "text": [
      "usage: harissa infer dataset_path hartree [-h] [-p PENALIZATION]\n",
      "                                          [-t TOLERANCE] [-n MAX_ITERATION]\n",
      "                                          [-v] [--use-numba] [--no-use-numba]\n",
      "\n",
      "options:\n",
      "  -h, --help            show this help message and exit\n",
      "  -p PENALIZATION, --penalization PENALIZATION\n",
      "  -t TOLERANCE, --tolerance TOLERANCE\n",
      "  -n MAX_ITERATION, --max-iteration MAX_ITERATION\n",
      "  -v, --verbose\n",
      "  --use-numba\n",
      "  --no-use-numba\n"
     ]
    }
   ],
   "source": [
    "!harissa infer path/to/dataset hartree -h"
   ]
  },
  {
   "cell_type": "markdown",
   "metadata": {},
   "source": [
    "#### Trajectory help"
   ]
  },
  {
   "cell_type": "code",
   "execution_count": 7,
   "metadata": {},
   "outputs": [
    {
     "name": "stdout",
     "output_type": "stream",
     "text": [
      "usage: harissa trajectory [-h] [-b BURN_IN] [-f {npz,txt}] [-o OUTPUT]\n",
      "                          [--save-plot]\n",
      "                          simulation_parameter_path network_parameter_path\n",
      "                          {bursty,ode} ...\n",
      "\n",
      "positional arguments:\n",
      "  simulation_parameter_path\n",
      "                        path to simulation parameter. It is a .npz file or a\n",
      "                        directory.\n",
      "  network_parameter_path\n",
      "                        path to network parameter. It is a .npz file or a\n",
      "                        directory.\n",
      "\n",
      "options:\n",
      "  -h, --help            show this help message and exit\n",
      "  -b BURN_IN, --burn-in BURN_IN\n",
      "                        burn in duration. (override the initial state)\n",
      "                        (default: None)\n",
      "  -f {npz,txt}, --format {npz,txt}\n",
      "                        output's format. (default: npz)\n",
      "  -o OUTPUT, --output OUTPUT\n",
      "                        output path. It is a directory if the format is txt\n",
      "                        else it is a .npz file. (default: None)\n",
      "  --save-plot\n",
      "\n",
      "simulation methods (optional):\n",
      "  {bursty,ode}          specify it to choose the simulation method and to\n",
      "                        parametrize it. If not specified the bursty method is\n",
      "                        used by default.\n"
     ]
    }
   ],
   "source": [
    "!harissa trajectory -h "
   ]
  },
  {
   "cell_type": "code",
   "execution_count": 8,
   "metadata": {},
   "outputs": [
    {
     "name": "stdout",
     "output_type": "stream",
     "text": [
      "usage: harissa trajectory simulation_parameter_path network_parameter_path bursty\n",
      "       [-h] [--thin-adapt] [--no-thin-adapt] [-v] [--use-numba]\n",
      "\n",
      "options:\n",
      "  -h, --help       show this help message and exit\n",
      "  --thin-adapt\n",
      "  --no-thin-adapt\n",
      "  -v, --verbose\n",
      "  --use-numba\n"
     ]
    }
   ],
   "source": [
    "!harissa trajectory path/to/simulation_param path/to/network_param bursty -h"
   ]
  },
  {
   "cell_type": "code",
   "execution_count": 9,
   "metadata": {},
   "outputs": [
    {
     "name": "stdout",
     "output_type": "stream",
     "text": [
      "usage: harissa trajectory simulation_parameter_path network_parameter_path ode\n",
      "       [-h] [-v] [--use-numba]\n",
      "\n",
      "options:\n",
      "  -h, --help     show this help message and exit\n",
      "  -v, --verbose\n",
      "  --use-numba\n"
     ]
    }
   ],
   "source": [
    "!harissa trajectory path/to/simulation_param path/to/network_param ode -h"
   ]
  },
  {
   "cell_type": "markdown",
   "metadata": {},
   "source": [
    "#### Dataset help"
   ]
  },
  {
   "cell_type": "code",
   "execution_count": 10,
   "metadata": {},
   "outputs": [
    {
     "name": "stdout",
     "output_type": "stream",
     "text": [
      "usage: harissa dataset [-h] [-f {npz,txt}] [-o OUTPUT]\n",
      "                       dataset_path network_parameter_path {bursty,ode} ...\n",
      "\n",
      "positional arguments:\n",
      "  dataset_path          path to dataset file\n",
      "  network_parameter_path\n",
      "                        path to network parameter. It is a .npz file or a\n",
      "                        directory.\n",
      "\n",
      "options:\n",
      "  -h, --help            show this help message and exit\n",
      "  -f {npz,txt}, --format {npz,txt}\n",
      "                        output's format. (default: npz)\n",
      "  -o OUTPUT, --output OUTPUT\n",
      "                        output path. It is a directory if the format is txt\n",
      "                        else it is a .npz file. (default: None)\n",
      "\n",
      "simulation methods (optional):\n",
      "  {bursty,ode}          specify it to choose the simulation method and to\n",
      "                        parametrize it. If not specified the bursty method is\n",
      "                        used by default.\n"
     ]
    }
   ],
   "source": [
    "!harissa dataset -h"
   ]
  },
  {
   "cell_type": "code",
   "execution_count": 11,
   "metadata": {},
   "outputs": [
    {
     "name": "stdout",
     "output_type": "stream",
     "text": [
      "usage: harissa dataset dataset_path network_parameter_path bursty\n",
      "       [-h] [--thin-adapt] [--no-thin-adapt] [-v] [--use-numba]\n",
      "\n",
      "options:\n",
      "  -h, --help       show this help message and exit\n",
      "  --thin-adapt\n",
      "  --no-thin-adapt\n",
      "  -v, --verbose\n",
      "  --use-numba\n"
     ]
    }
   ],
   "source": [
    "!harissa dataset path/to/dataset path/to/network_param bursty -h"
   ]
  },
  {
   "cell_type": "code",
   "execution_count": 12,
   "metadata": {},
   "outputs": [
    {
     "name": "stdout",
     "output_type": "stream",
     "text": [
      "usage: harissa dataset dataset_path network_parameter_path ode\n",
      "       [-h] [-v] [--use-numba]\n",
      "\n",
      "options:\n",
      "  -h, --help     show this help message and exit\n",
      "  -v, --verbose\n",
      "  --use-numba\n"
     ]
    }
   ],
   "source": [
    "!harissa dataset path/to/dataset path/to/network_param ode -h"
   ]
  },
  {
   "cell_type": "markdown",
   "metadata": {},
   "source": [
    "#### Convert help"
   ]
  },
  {
   "cell_type": "code",
   "execution_count": 13,
   "metadata": {},
   "outputs": [
    {
     "name": "stdout",
     "output_type": "stream",
     "text": [
      "usage: harissa convert [-h] path [output_path]\n",
      "\n",
      "positional arguments:\n",
      "  path         path to convert. It is a .npz file or a directory or a .txt\n",
      "               (dataset).\n",
      "  output_path  destination path. It is a .npz file or a directory.\n",
      "\n",
      "options:\n",
      "  -h, --help   show this help message and exit\n"
     ]
    }
   ],
   "source": [
    "!harissa convert -h"
   ]
  },
  {
   "cell_type": "markdown",
   "metadata": {},
   "source": [
    "#### Visualize help"
   ]
  },
  {
   "cell_type": "code",
   "execution_count": 14,
   "metadata": {},
   "outputs": [
    {
     "name": "stdout",
     "output_type": "stream",
     "text": [
      "usage: harissa visualize [-h] [-d] [-p] [-u] [-o OUTPUT]\n",
      "                         ref_dataset_path sim_dataset_path\n",
      "\n",
      "positional arguments:\n",
      "  ref_dataset_path      path to the reference dataset\n",
      "  sim_dataset_path      path to the simulated dataset\n",
      "\n",
      "options:\n",
      "  -h, --help            show this help message and exit\n",
      "  -d, --distributions   plot the marginal distributions of the simulated genes\n",
      "  -p, --pvalues         plot the comparison of the marginals using a\n",
      "                        Kolmogorov-Smornov test\n",
      "  -u, --umap            plot the UMAP reduction of the simulated dataset\n",
      "  -o OUTPUT, --output OUTPUT\n",
      "                        output path. It is a directory where pdf files are\n",
      "                        saved.\n"
     ]
    }
   ],
   "source": [
    "!harissa visualize -h"
   ]
  }
 ],
 "metadata": {
  "kernelspec": {
   "display_name": "Python 3 (ipykernel)",
   "language": "python",
   "name": "python3"
  },
  "language_info": {
   "codemirror_mode": {
    "name": "ipython",
    "version": 3
   },
   "file_extension": ".py",
   "mimetype": "text/x-python",
   "name": "python",
   "nbconvert_exporter": "python",
   "pygments_lexer": "ipython3",
   "version": "3.10.12"
  }
 },
 "nbformat": 4,
 "nbformat_minor": 4
}
