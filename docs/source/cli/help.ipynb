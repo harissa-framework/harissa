{
 "cells": [
  {
   "cell_type": "markdown",
   "metadata": {},
   "source": [
    "# Help message\n",
    "\n",
    "You can always display available options with an help message by using `-h` option.\n",
    "\n",
    "## Global help\n",
    "\n",
    "For example to display the command list:\n",
    "\n",
    "```console\n",
    "$ harissa -h\n",
    "```"
   ]
  },
  {
   "cell_type": "code",
   "execution_count": 4,
   "metadata": {
    "tags": [
     "remove-input"
    ]
   },
   "outputs": [
    {
     "name": "stdout",
     "output_type": "stream",
     "text": [
      "usage: harissa [-h] [-V] {infer,trajectory,dataset,visualize,convert} ...\n",
      "\n",
      "Tools for mechanistic gene network inference from single-cell data\n",
      "\n",
      "options:\n",
      "  -h, --help            show this help message and exit\n",
      "  -V, --version         show program's version number and exit\n",
      "\n",
      "commands:\n",
      "  {infer,trajectory,dataset,visualize,convert}\n",
      "    infer               infer help\n",
      "    trajectory          simulate a trajectory\n",
      "    dataset             simulate a dataset\n",
      "    visualize           visualize help\n",
      "    convert             convert help\n"
     ]
    }
   ],
   "source": [
    "!harissa -h"
   ]
  },
  {
   "cell_type": "markdown",
   "metadata": {},
   "source": [
    "## Commands options\n",
    "\n",
    "To display the commands options, you can display its help message by adding the `-h` option after the command name.\n",
    "\n",
    "### Infer help\n",
    "\n",
    "```console\n",
    "$ harissa infer -h\n",
    "```"
   ]
  },
  {
   "cell_type": "code",
   "execution_count": 5,
   "metadata": {
    "tags": [
     "remove-input"
    ]
   },
   "outputs": [
    {
     "name": "stdout",
     "output_type": "stream",
     "text": [
      "usage: harissa infer [-h] [-n NETWORK_PATH] [-f {npz,txt}] [-o OUTPUT]\n",
      "                     [--save-plot] [--cut-off CUT_OFF] [--save-extra]\n",
      "                     dataset_path {hartree,cardamom} ...\n",
      "\n",
      "positional arguments:\n",
      "  dataset_path          path to data file\n",
      "\n",
      "options:\n",
      "  -h, --help            show this help message and exit\n",
      "  -n NETWORK_PATH, --network_path NETWORK_PATH\n",
      "                        path to network file (default: None)\n",
      "  -f {npz,txt}, --format {npz,txt}\n",
      "                        output's format. (default: npz)\n",
      "  -o OUTPUT, --output OUTPUT\n",
      "                        output path. It is a directory if the format is txt\n",
      "                        else it is a .npz file. (default: None)\n",
      "  --save-plot\n",
      "  --cut-off CUT_OFF     method help (default: 1.0)\n",
      "  --save-extra\n",
      "\n",
      "inference methods:\n",
      "  {hartree,cardamom}\n"
     ]
    }
   ],
   "source": [
    "!harissa infer -h"
   ]
  },
  {
   "cell_type": "markdown",
   "metadata": {},
   "source": [
    "To display the options of a particular inference method add `-h` option \n",
    "after choosing it\n",
    "\n",
    "For example:\n",
    "\n",
    "```console\n",
    "$ harissa infer path/to/dataset hartree -h\n",
    "```"
   ]
  },
  {
   "cell_type": "code",
   "execution_count": 6,
   "metadata": {
    "tags": [
     "remove-input"
    ]
   },
   "outputs": [
    {
     "name": "stdout",
     "output_type": "stream",
     "text": [
      "usage: harissa infer dataset_path hartree [-h] [-p PENALIZATION]\n",
      "                                          [-t TOLERANCE] [-n MAX_ITERATION]\n",
      "                                          [-v] [--use-numba] [--no-use-numba]\n",
      "\n",
      "options:\n",
      "  -h, --help            show this help message and exit\n",
      "  -p PENALIZATION, --penalization PENALIZATION\n",
      "  -t TOLERANCE, --tolerance TOLERANCE\n",
      "  -n MAX_ITERATION, --max-iteration MAX_ITERATION\n",
      "  -v, --verbose\n",
      "  --use-numba\n",
      "  --no-use-numba\n"
     ]
    }
   ],
   "source": [
    "!harissa infer path/to/dataset hartree -h"
   ]
  },
  {
   "cell_type": "markdown",
   "metadata": {},
   "source": [
    "or \n",
    "\n",
    "```console\n",
    "$ harissa infer path/to/dataset cardamom -h\n",
    "```"
   ]
  },
  {
   "cell_type": "code",
   "execution_count": 7,
   "metadata": {
    "tags": [
     "remove-input"
    ]
   },
   "outputs": [
    {
     "name": "stdout",
     "output_type": "stream",
     "text": [
      "usage: harissa infer dataset_path cardamom [-h] [--threshold THRESHOLD]\n",
      "                                           [-l PSEUDO_L1_COEFF]\n",
      "                                           [-p PENALIZATION] [-t TOLERANCE]\n",
      "                                           [-n MAX_ITERATION] [-v]\n",
      "                                           [--use-numba] [--no-use-numba]\n",
      "\n",
      "options:\n",
      "  -h, --help            show this help message and exit\n",
      "  --threshold THRESHOLD\n",
      "  -l PSEUDO_L1_COEFF, --pseudo-l1-coeff PSEUDO_L1_COEFF\n",
      "  -p PENALIZATION, --penalization PENALIZATION\n",
      "  -t TOLERANCE, --tolerance TOLERANCE\n",
      "  -n MAX_ITERATION, --max-iteration MAX_ITERATION\n",
      "  -v, --verbose\n",
      "  --use-numba\n",
      "  --no-use-numba\n"
     ]
    }
   ],
   "source": [
    "!harissa infer path/to/dataset cardamom -h"
   ]
  },
  {
   "cell_type": "markdown",
   "metadata": {},
   "source": [
    "### Trajectory help\n",
    "\n",
    "```console\n",
    "$ harissa trajectory -h\n",
    "```"
   ]
  },
  {
   "cell_type": "code",
   "execution_count": 8,
   "metadata": {
    "tags": [
     "remove-input"
    ]
   },
   "outputs": [
    {
     "name": "stdout",
     "output_type": "stream",
     "text": [
      "usage: harissa trajectory [-h] [-b BURN_IN] [-f {npz,txt}] [-o OUTPUT]\n",
      "                          [--save-plot]\n",
      "                          simulation_parameter_path network_parameter_path\n",
      "                          {bursty,ode} ...\n",
      "\n",
      "positional arguments:\n",
      "  simulation_parameter_path\n",
      "                        path to simulation parameter. It is a .npz file or a\n",
      "                        directory.\n",
      "  network_parameter_path\n",
      "                        path to network parameter. It is a .npz file or a\n",
      "                        directory.\n",
      "\n",
      "options:\n",
      "  -h, --help            show this help message and exit\n",
      "  -b BURN_IN, --burn-in BURN_IN\n",
      "                        burn in duration. (override the initial state)\n",
      "                        (default: None)\n",
      "  -f {npz,txt}, --format {npz,txt}\n",
      "                        output's format. (default: npz)\n",
      "  -o OUTPUT, --output OUTPUT\n",
      "                        output path. It is a directory if the format is txt\n",
      "                        else it is a .npz file. (default: None)\n",
      "  --save-plot\n",
      "\n",
      "simulation methods (optional):\n",
      "  {bursty,ode}          specify it to choose the simulation method and to\n",
      "                        parametrize it. If not specified the bursty method is\n",
      "                        used by default.\n"
     ]
    }
   ],
   "source": [
    "!harissa trajectory -h "
   ]
  },
  {
   "cell_type": "markdown",
   "metadata": {},
   "source": [
    "To display the options of a particular simulation method add `-h` option \n",
    "after choosing it\n",
    "\n",
    "For example:\n",
    "\n",
    "```console\n",
    "$ harissa trajectory path/to/simulation_param path/to/network_param bursty -h\n",
    "```"
   ]
  },
  {
   "cell_type": "code",
   "execution_count": 9,
   "metadata": {
    "tags": [
     "remove-input"
    ]
   },
   "outputs": [
    {
     "name": "stdout",
     "output_type": "stream",
     "text": [
      "usage: harissa trajectory simulation_parameter_path network_parameter_path bursty\n",
      "       [-h] [--thin-adapt] [--no-thin-adapt] [-v] [--use-numba]\n",
      "\n",
      "options:\n",
      "  -h, --help       show this help message and exit\n",
      "  --thin-adapt\n",
      "  --no-thin-adapt\n",
      "  -v, --verbose\n",
      "  --use-numba\n"
     ]
    }
   ],
   "source": [
    "!harissa trajectory path/to/simulation_param path/to/network_param bursty -h"
   ]
  },
  {
   "cell_type": "markdown",
   "metadata": {},
   "source": [
    "or \n",
    "\n",
    "```console\n",
    "$ harissa trajectory path/to/simulation_param path/to/network_param ode -h\n",
    "```"
   ]
  },
  {
   "cell_type": "code",
   "execution_count": 10,
   "metadata": {
    "tags": [
     "remove-input"
    ]
   },
   "outputs": [
    {
     "name": "stdout",
     "output_type": "stream",
     "text": [
      "usage: harissa trajectory simulation_parameter_path network_parameter_path ode\n",
      "       [-h] [-v] [--use-numba]\n",
      "\n",
      "options:\n",
      "  -h, --help     show this help message and exit\n",
      "  -v, --verbose\n",
      "  --use-numba\n"
     ]
    }
   ],
   "source": [
    "!harissa trajectory path/to/simulation_param path/to/network_param ode -h"
   ]
  },
  {
   "cell_type": "markdown",
   "metadata": {},
   "source": [
    "### Dataset help\n",
    "\n",
    "```console\n",
    "$ harissa dataset -h\n",
    "```"
   ]
  },
  {
   "cell_type": "code",
   "execution_count": 11,
   "metadata": {
    "tags": [
     "remove-input"
    ]
   },
   "outputs": [
    {
     "name": "stdout",
     "output_type": "stream",
     "text": [
      "usage: harissa dataset [-h] [-f {npz,txt}] [-o OUTPUT]\n",
      "                       dataset_path network_parameter_path {bursty,ode} ...\n",
      "\n",
      "positional arguments:\n",
      "  dataset_path          path to dataset file\n",
      "  network_parameter_path\n",
      "                        path to network parameter. It is a .npz file or a\n",
      "                        directory.\n",
      "\n",
      "options:\n",
      "  -h, --help            show this help message and exit\n",
      "  -f {npz,txt}, --format {npz,txt}\n",
      "                        output's format. (default: npz)\n",
      "  -o OUTPUT, --output OUTPUT\n",
      "                        output path. It is a directory if the format is txt\n",
      "                        else it is a .npz file. (default: None)\n",
      "\n",
      "simulation methods (optional):\n",
      "  {bursty,ode}          specify it to choose the simulation method and to\n",
      "                        parametrize it. If not specified the bursty method is\n",
      "                        used by default.\n"
     ]
    }
   ],
   "source": [
    "!harissa dataset -h"
   ]
  },
  {
   "cell_type": "markdown",
   "metadata": {},
   "source": [
    "To display the options of a particular simulation method add `-h` option \n",
    "after choosing it\n",
    "\n",
    "For example:\n",
    "\n",
    "```console\n",
    "$ harissa dataset path/to/dataset path/to/network_param bursty -h\n",
    "```"
   ]
  },
  {
   "cell_type": "code",
   "execution_count": 12,
   "metadata": {
    "tags": [
     "remove-input"
    ]
   },
   "outputs": [
    {
     "name": "stdout",
     "output_type": "stream",
     "text": [
      "usage: harissa dataset dataset_path network_parameter_path bursty\n",
      "       [-h] [--thin-adapt] [--no-thin-adapt] [-v] [--use-numba]\n",
      "\n",
      "options:\n",
      "  -h, --help       show this help message and exit\n",
      "  --thin-adapt\n",
      "  --no-thin-adapt\n",
      "  -v, --verbose\n",
      "  --use-numba\n"
     ]
    }
   ],
   "source": [
    "!harissa dataset path/to/dataset path/to/network_param bursty -h"
   ]
  },
  {
   "cell_type": "markdown",
   "metadata": {},
   "source": [
    "or \n",
    "\n",
    "```console\n",
    "$ harissa dataset path/to/dataset path/to/network_param ode -h\n",
    "```"
   ]
  },
  {
   "cell_type": "code",
   "execution_count": 13,
   "metadata": {
    "tags": [
     "remove-input"
    ]
   },
   "outputs": [
    {
     "name": "stdout",
     "output_type": "stream",
     "text": [
      "usage: harissa dataset dataset_path network_parameter_path ode\n",
      "       [-h] [-v] [--use-numba]\n",
      "\n",
      "options:\n",
      "  -h, --help     show this help message and exit\n",
      "  -v, --verbose\n",
      "  --use-numba\n"
     ]
    }
   ],
   "source": [
    "!harissa dataset path/to/dataset path/to/network_param ode -h"
   ]
  },
  {
   "cell_type": "markdown",
   "metadata": {},
   "source": [
    "### Convert help\n",
    "\n",
    "```console\n",
    "$ harissa convert -h\n",
    "```"
   ]
  },
  {
   "cell_type": "code",
   "execution_count": 14,
   "metadata": {
    "tags": [
     "remove-input"
    ]
   },
   "outputs": [
    {
     "name": "stdout",
     "output_type": "stream",
     "text": [
      "usage: harissa convert [-h] path [output_path]\n",
      "\n",
      "positional arguments:\n",
      "  path         path to convert. It is a .npz file or a directory or a .txt\n",
      "               (dataset).\n",
      "  output_path  destination path. It is a .npz file or a directory.\n",
      "\n",
      "options:\n",
      "  -h, --help   show this help message and exit\n"
     ]
    }
   ],
   "source": [
    "!harissa convert -h"
   ]
  },
  {
   "cell_type": "markdown",
   "metadata": {},
   "source": [
    "### Visualize help\n",
    "\n",
    "```console\n",
    "$ harissa visualize -h\n",
    "```"
   ]
  },
  {
   "cell_type": "code",
   "execution_count": 15,
   "metadata": {
    "tags": [
     "remove-input"
    ]
   },
   "outputs": [
    {
     "name": "stdout",
     "output_type": "stream",
     "text": [
      "usage: harissa visualize [-h] [-d] [-p] [-u] [-o OUTPUT]\n",
      "                         ref_dataset_path sim_dataset_path\n",
      "\n",
      "positional arguments:\n",
      "  ref_dataset_path      path to the reference dataset\n",
      "  sim_dataset_path      path to the simulated dataset\n",
      "\n",
      "options:\n",
      "  -h, --help            show this help message and exit\n",
      "  -d, --distributions   plot the marginal distributions of the simulated genes\n",
      "  -p, --pvalues         plot the comparison of the marginals using a\n",
      "                        Kolmogorov-Smornov test\n",
      "  -u, --umap            plot the UMAP reduction of the simulated dataset\n",
      "  -o OUTPUT, --output OUTPUT\n",
      "                        output path. It is a directory where pdf files are\n",
      "                        saved.\n"
     ]
    }
   ],
   "source": [
    "!harissa visualize -h"
   ]
  },
  {
   "cell_type": "markdown",
   "metadata": {},
   "source": [
    "### Template\n",
    "\n",
    "```console\n",
    "$ harissa template -h\n",
    "```"
   ]
  },
  {
   "cell_type": "code",
   "execution_count": 1,
   "metadata": {
    "tags": [
     "remove-input"
    ]
   },
   "outputs": [
    {
     "name": "stdout",
     "output_type": "stream",
     "text": [
      "usage: harissa template [-h] {simulation,inference} path\n",
      "\n",
      "positional arguments:\n",
      "  {simulation,inference}\n",
      "                        Type of template that will be generated.\n",
      "  path                  path where to generate the template. The name of the\n",
      "                        template is deducted from it.\n",
      "\n",
      "options:\n",
      "  -h, --help            show this help message and exit\n"
     ]
    }
   ],
   "source": [
    "!harissa template -h"
   ]
  }
 ],
 "metadata": {
  "kernelspec": {
   "display_name": "Python 3 (ipykernel)",
   "language": "python",
   "name": "python3"
  },
  "language_info": {
   "codemirror_mode": {
    "name": "ipython",
    "version": 3
   },
   "file_extension": ".py",
   "mimetype": "text/x-python",
   "name": "python",
   "nbconvert_exporter": "python",
   "pygments_lexer": "ipython3",
   "version": "3.10.12"
  }
 },
 "nbformat": 4,
 "nbformat_minor": 4
}
