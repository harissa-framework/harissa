{
 "cells": [
  {
   "cell_type": "markdown",
   "id": "dc9ca429",
   "metadata": {},
   "source": [
    "# Notebook 2 - Inference\n",
    "\n",
    "In this notebook we use `harissa` to perform network inference from a small dataset with 4 genes."
   ]
  },
  {
   "cell_type": "code",
   "execution_count": 1,
   "id": "665887cc",
   "metadata": {},
   "outputs": [],
   "source": [
    "import numpy as np\n",
    "from pathlib import Path\n",
    "from harissa import NetworkModel, NetworkParameter\n",
    "fname = 'data.txt'\n",
    "data_path = Path(fname)"
   ]
  },
  {
   "cell_type": "markdown",
   "id": "19473e98",
   "metadata": {},
   "source": [
    "## Network\n",
    "\n",
    "Let us start by defining a test network which will represent the ground truth. Note that the underlying dynamical model has quantitative parameters."
   ]
  },
  {
   "cell_type": "code",
   "execution_count": 2,
   "metadata": {},
   "outputs": [],
   "source": [
    "# Initialize the model\n",
    "param = NetworkParameter(4)\n",
    "# Set degradation rates\n",
    "param.degradation_rna[:] = 1.0\n",
    "param.degradation_protein[:] = 0.2\n",
    "# Set basal activities\n",
    "param.basal[1:] = -5.0\n",
    "# Set interactions\n",
    "param.interaction[0,1] = 10.0\n",
    "param.interaction[1,2] = 10.0\n",
    "param.interaction[1,3] = 10.0\n",
    "param.interaction[3,4] = 10.0\n",
    "param.interaction[4,1] = -10.0\n",
    "param.interaction[2,2] = 10.0\n",
    "param.interaction[3,3] = 10.0\n",
    "\n",
    "# Initialize model\n",
    "model = NetworkModel(param)"
   ]
  },
  {
   "cell_type": "markdown",
   "id": "e37a606b",
   "metadata": {},
   "source": [
    "The `harissa.utils` module provides `build_pos` and `plot_network` to visualize networks."
   ]
  },
  {
   "cell_type": "code",
   "execution_count": 3,
   "id": "e5771749",
   "metadata": {},
   "outputs": [
    {
     "data": {
      "image/png": "[encoded data removed]",
      "text/plain": [
       "<Figure size 500x500 with 1 Axes>"
      ]
     },
     "metadata": {},
     "output_type": "display_data"
    }
   ],
   "source": [
    "import matplotlib.pyplot as plt\n",
    "from harissa.utils import build_pos, plot_network\n",
    "\n",
    "# Number of genes including stimulus\n",
    "G = param.basal.size\n",
    "\n",
    "# Node labels and positions\n",
    "names = [''] + [f'{i+1}' for i in range(G)]\n",
    "pos = build_pos(param.interaction) * 0.8\n",
    "\n",
    "# Draw the network\n",
    "fig = plt.figure(figsize=(5,5))\n",
    "plot_network(param.interaction, pos, axes=fig.gca(), names=names, scale=3)"
   ]
  },
  {
   "cell_type": "markdown",
   "id": "9a654dd5",
   "metadata": {},
   "source": [
    "## Dataset\n",
    "\n",
    "We start by generating a sample time-course scRNA-seq dataset: here the main function is `model.simulate()`. The dynamical model is first run during a certain time without stimulus (`burnin` parameter) before activating it at $t=0$. Each single cell is then collected at a particular time point $t > 0$ during the simulated experiment: in this example there are 10 experimental time points and `C`/10 cells per time point."
   ]
  },
  {
   "cell_type": "code",
   "execution_count": 4,
   "id": "d5f35a78",
   "metadata": {},
   "outputs": [
    {
     "name": "stdout",
     "output_type": "stream",
     "text": [
      "Time points: 0, 2, 4, 6, 8, 11, 13, 15, 17, 20\n",
      "100 cells per time point (total 1000 cells)\n",
      "Dataset file data.txt has been generated.\n"
     ]
    }
   ],
   "source": [
    "# Simulate a time-course scRNA-seq dataset\n",
    "if not data_path.is_file():\n",
    "    # Number of cells\n",
    "    C = 1000\n",
    "    # Set the time points\n",
    "    k = np.linspace(0, C, 11, dtype='int')\n",
    "    t = np.linspace(0, 20, 10, dtype='int')\n",
    "    print('Time points: ' + ', '.join([f'{ti}' for ti in t]))\n",
    "    print(f'{int(C/t.size)} cells per time point (total {C} cells)')\n",
    "    # Time point of each cell\n",
    "    time = np.zeros(C, dtype='int')\n",
    "    for i in range(10):\n",
    "        time[k[i]:k[i+1]] = t[i]\n",
    "    # Prepare data\n",
    "    data = np.zeros((C,G), dtype='int')\n",
    "    data[:,0] = time # Time points\n",
    "    # Generate data\n",
    "    for k in range(C):\n",
    "        sim = model.simulate(time[k], burn_in=5.0)\n",
    "        data[k,1:] = np.random.poisson(sim.rna_levels[0])\n",
    "    # Save data in basic format\n",
    "    np.savetxt(fname, data, fmt='%d', delimiter='\\t')\n",
    "    print(f'Dataset file {fname} has been generated.')\n",
    "else:\n",
    "    data = np.loadtxt(fname, dtype=int, delimiter='\\t')\n",
    "    print(f'Dataset file {fname} loaded.')"
   ]
  },
  {
   "cell_type": "markdown",
   "id": "19115b07",
   "metadata": {},
   "source": [
    "Note that each scRNA-seq count is obtained by sampling from a Poisson distribution whose rate (mean) parameter is given by the corresponding continuous-valued mRNA level from the stochastic dynamical model. A typical way to implement technical factors (efficiency of reverse transcription, sequencing depth, etc.) would be to first multiply, before applying the Poisson distribution, the continuous values by scaling factors."
   ]
  },
  {
   "cell_type": "code",
   "execution_count": 5,
   "id": "612341aa",
   "metadata": {},
   "outputs": [
    {
     "name": "stdout",
     "output_type": "stream",
     "text": [
      "[[  0   0   0   0   0]\n",
      " [  0   0   0   0   0]\n",
      " [  0   0   0  25   0]\n",
      " ...\n",
      " [ 20 180  55 126   2]\n",
      " [ 20   7  62  79 144]\n",
      " [ 20  60 159  96  92]]\n"
     ]
    }
   ],
   "source": [
    "print(data)"
   ]
  },
  {
   "cell_type": "markdown",
   "id": "68ecc28c",
   "metadata": {},
   "source": [
    "Each row corresponds to a single cell; the first column contains time points, while other columns contain gene expression counts."
   ]
  },
  {
   "cell_type": "markdown",
   "id": "42c3f2d2",
   "metadata": {},
   "source": [
    "## Network Inference\n",
    "\n",
    "Here the main function is `model.fit()`. The first call may take a while due to the Numba compilation (activated by default)."
   ]
  },
  {
   "cell_type": "code",
   "execution_count": 6,
   "id": "71468476",
   "metadata": {},
   "outputs": [
    {
     "name": "stdout",
     "output_type": "stream",
     "text": [
      "[[ 0.          4.96298879  0.15047687  0.13693118  0.11587629]\n",
      " [ 0.          4.6138933   1.99845057  1.75223708  0.02433864]\n",
      " [ 0.         -0.05301395  5.17142911  0.65857827  1.25359044]\n",
      " [ 0.         -0.06226112  0.83292455  5.16089107  0.89876161]\n",
      " [ 0.         -2.9085878   0.14536336  0.16376833  5.00862692]]\n"
     ]
    }
   ],
   "source": [
    "model1 = NetworkModel()\n",
    "# Calibrate the model\n",
    "res = model1.fit(data).parameter\n",
    "# Show inferred links\n",
    "print(res.interaction)"
   ]
  },
  {
   "cell_type": "markdown",
   "id": "1e44ef01",
   "metadata": {},
   "source": [
    "\n",
    "Note that the first column of `model.inter` will always be 0 since the stimulus (gene 0) has no feedback by hypothesis. In order to better visualize the results, we can apply a cutoff to edge weights:"
   ]
  },
  {
   "cell_type": "code",
   "execution_count": 7,
   "id": "d7d842ce",
   "metadata": {},
   "outputs": [
    {
     "name": "stdout",
     "output_type": "stream",
     "text": [
      "[[ 0.          4.96298879  0.          0.          0.        ]\n",
      " [ 0.          4.6138933   1.99845057  1.75223708  0.        ]\n",
      " [ 0.         -0.          5.17142911  0.          1.25359044]\n",
      " [ 0.         -0.          0.          5.16089107  0.        ]\n",
      " [ 0.         -2.9085878   0.          0.          5.00862692]]\n"
     ]
    }
   ],
   "source": [
    "cutoff = 1\n",
    "inter_c = (np.abs(res.interaction) > cutoff) * res.interaction\n",
    "print(inter_c) "
   ]
  },
  {
   "cell_type": "markdown",
   "id": "553021ee",
   "metadata": {},
   "source": [
    "Hopefully this looks nice!"
   ]
  },
  {
   "cell_type": "code",
   "execution_count": 8,
   "id": "dc1af895",
   "metadata": {},
   "outputs": [
    {
     "data": {
      "image/png": "[encoded data removed]",
      "text/plain": [
       "<Figure size 500x500 with 1 Axes>"
      ]
     },
     "metadata": {},
     "output_type": "display_data"
    }
   ],
   "source": [
    "# Draw the network\n",
    "fig = plt.figure(figsize=(5,5))\n",
    "plot_network(inter_c, pos, axes=fig.gca(), names=names, scale=3)"
   ]
  },
  {
   "cell_type": "markdown",
   "id": "4671272e",
   "metadata": {},
   "source": [
    "Note that self-interactions are notoriously difficult to infer; they are usually not considered in performance evaluations."
   ]
  },
  {
   "cell_type": "markdown",
   "id": "736d3e68",
   "metadata": {},
   "source": [
    "### Option: disable Numba\n",
    "\n",
    "To perform inference without Numba acceleration, set the `use_numba` option to `False` (useful when Numba is not available or generates errors)."
   ]
  },
  {
   "cell_type": "code",
   "execution_count": 9,
   "id": "413bc4c1",
   "metadata": {},
   "outputs": [
    {
     "name": "stdout",
     "output_type": "stream",
     "text": [
      "[[ 0.          4.96298879  0.15047687  0.13693118  0.11587629]\n",
      " [ 0.          4.6138933   1.99845057  1.75223708  0.02433864]\n",
      " [ 0.         -0.05301395  5.17142911  0.65857827  1.25359044]\n",
      " [ 0.         -0.06226112  0.83292455  5.16089107  0.89876161]\n",
      " [ 0.         -2.9085878   0.14536336  0.16376833  5.00862692]]\n"
     ]
    }
   ],
   "source": [
    "from harissa.inference import Hartree\n",
    "model2 = NetworkModel(inference=Hartree(use_numba=False))\n",
    "# Calibrate the model\n",
    "model2.fit(data)\n",
    "# Show inferred links\n",
    "print(model2.parameter.interaction)"
   ]
  },
  {
   "cell_type": "markdown",
   "id": "6bb5ffe6",
   "metadata": {},
   "source": [
    "You can now delete `data.txt` and try to generate new data with different values for `C` (number of cells) to see its impact on performance."
   ]
  }
 ],
 "metadata": {
  "kernelspec": {
   "display_name": "Python 3 (ipykernel)",
   "language": "python",
   "name": "python3"
  },
  "language_info": {
   "codemirror_mode": {
    "name": "ipython",
    "version": 3
   },
   "file_extension": ".py",
   "mimetype": "text/x-python",
   "name": "python",
   "nbconvert_exporter": "python",
   "pygments_lexer": "ipython3",
   "version": "3.10.12"
  }
 },
 "nbformat": 4,
 "nbformat_minor": 5
}
