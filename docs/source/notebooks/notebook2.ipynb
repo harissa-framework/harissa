{
 "cells": [
  {
   "cell_type": "markdown",
   "id": "dc9ca429",
   "metadata": {},
   "source": [
    "# Notebook 2 - Inference\n",
    "\n",
    "In this notebook we use `harissa` to perform network inference from a small dataset with 4 genes."
   ]
  },
  {
   "cell_type": "code",
   "execution_count": 14,
   "id": "665887cc",
   "metadata": {},
   "outputs": [],
   "source": [
    "import numpy as np\n",
    "from pathlib import Path\n",
    "\n",
    "from harissa import NetworkModel, NetworkParameter\n",
    "from harissa.core import Dataset\n",
    "\n",
    "fname = 'data.npz'\n",
    "data_path = Path(fname)"
   ]
  },
  {
   "cell_type": "markdown",
   "id": "19473e98",
   "metadata": {},
   "source": [
    "## Network\n",
    "\n",
    "Let us start by defining a test network which will represent the ground truth. Note that the underlying dynamical model has quantitative parameters."
   ]
  },
  {
   "cell_type": "code",
   "execution_count": 15,
   "metadata": {},
   "outputs": [],
   "source": [
    "# Initialize model parameters with 4 genes\n",
    "param = NetworkParameter(4)\n",
    "\n",
    "# Set degradation rates\n",
    "param.degradation_rna[:] = 1.0\n",
    "param.degradation_protein[:] = 0.2\n",
    "\n",
    "# Set creation rates\n",
    "param.creation_rna[:] = param.degradation_rna * param.scale() \n",
    "param.creation_protein[:] = param.degradation_protein * param.scale()\n",
    "\n",
    "# Set basal activities\n",
    "param.basal[1:] = -5.0\n",
    "\n",
    "# Set interactions\n",
    "param.interaction[0,1] = 10.0\n",
    "param.interaction[1,2] = 10.0\n",
    "param.interaction[1,3] = 10.0\n",
    "param.interaction[3,4] = 10.0\n",
    "param.interaction[4,1] = -10.0\n",
    "param.interaction[2,2] = 10.0\n",
    "param.interaction[3,3] = 10.0\n",
    "\n",
    "# Initialize model\n",
    "model = NetworkModel(param)"
   ]
  },
  {
   "cell_type": "markdown",
   "id": "e37a606b",
   "metadata": {},
   "source": [
    "The `harissa.utils` module provides `build_pos` and `plot_network` to visualize networks."
   ]
  },
  {
   "cell_type": "code",
   "execution_count": 16,
   "id": "e5771749",
   "metadata": {},
   "outputs": [
    {
     "data": {
      "image/png": "[encoded data removed]",
      "text/plain": [
       "<Figure size 500x500 with 1 Axes>"
      ]
     },
     "metadata": {},
     "output_type": "display_data"
    }
   ],
   "source": [
    "import matplotlib.pyplot as plt\n",
    "from harissa.graphics import build_pos, plot_network\n",
    "\n",
    "# Number of genes including stimulus\n",
    "G = param.basal.size\n",
    "\n",
    "# Node labels and positions\n",
    "names = [''] + [f'{i+1}' for i in range(G)]\n",
    "pos = build_pos(param.interaction) * 0.8\n",
    "\n",
    "# Draw the network\n",
    "fig = plt.figure(figsize=(5,5))\n",
    "plot_network(param.interaction, pos, axes=fig.gca(), names=names, scale=3)"
   ]
  },
  {
   "cell_type": "markdown",
   "id": "9a654dd5",
   "metadata": {},
   "source": [
    "## Dataset\n",
    "\n",
    "We start by generating a sample time-course scRNA-seq dataset: here the main function is `model.simulate()`. The dynamical model is first run during a certain time without stimulus (`burnin` parameter) before activating it at $t=0$. Each single cell is then collected at a particular time point $t > 0$ during the simulated experiment: in this example there are 10 experimental time points and `C`/10 cells per time point."
   ]
  },
  {
   "cell_type": "code",
   "execution_count": 17,
   "id": "d5f35a78",
   "metadata": {},
   "outputs": [
    {
     "name": "stdout",
     "output_type": "stream",
     "text": [
      "Dataset file data_old.txt loaded.\n"
     ]
    }
   ],
   "source": [
    "# Simulate a time-course scRNA-seq dataset\n",
    "if not data_path.is_file():\n",
    "    # Number of cells\n",
    "    C = 1000\n",
    "    # Set the time points\n",
    "    k = np.linspace(0, C, 11, dtype='int')\n",
    "    t = np.linspace(0, 20, 10, dtype='int')\n",
    "    print('Time points: ' + ', '.join([f'{ti}' for ti in t]))\n",
    "    print(f'{int(C/t.size)} cells per time point (total {C} cells)')\n",
    "    # Time point of each cell\n",
    "    time = np.zeros(C)\n",
    "    for i in range(10):\n",
    "        time[k[i]:k[i+1]] = t[i]\n",
    "    # Prepare data\n",
    "    count_matrix = np.zeros((C,G), dtype='uint')\n",
    "    count_matrix[:, 0] = time != 0.0 # Stimulus\n",
    "    # Generate data\n",
    "    for k in range(C):\n",
    "        sim = model.simulate(time[k], burn_in=5.0)\n",
    "        count_matrix[k, 1:] = np.random.poisson(sim.rna_levels[0, 1:])\n",
    "    data = Dataset(time, count_matrix)\n",
    "    # Save data in basic format\n",
    "    data.save(fname)\n",
    "    print(f'Dataset file {fname} has been generated.')\n",
    "else:\n",
    "    data = Dataset.load_txt(fname)\n",
    "    print(f'Dataset file {fname} loaded.')"
   ]
  },
  {
   "cell_type": "markdown",
   "id": "19115b07",
   "metadata": {},
   "source": [
    "Note that each scRNA-seq count is obtained by sampling from a Poisson distribution whose rate (mean) parameter is given by the corresponding continuous-valued mRNA level from the stochastic dynamical model. A typical way to implement technical factors (efficiency of reverse transcription, sequencing depth, etc.) would be to first multiply, before applying the Poisson distribution, the continuous values by scaling factors."
   ]
  },
  {
   "cell_type": "code",
   "execution_count": 18,
   "id": "612341aa",
   "metadata": {},
   "outputs": [
    {
     "name": "stdout",
     "output_type": "stream",
     "text": [
      "Dataset(time_points=array([ 0.,  0.,  0.,  0.,  0.,  0.,  0.,  0.,  0.,  0.,  0.,  0.,  0.,\n",
      "        0.,  0.,  0.,  0.,  0.,  0.,  0.,  0.,  0.,  0.,  0.,  0.,  0.,\n",
      "        0.,  0.,  0.,  0.,  0.,  0.,  0.,  0.,  0.,  0.,  0.,  0.,  0.,\n",
      "        0.,  0.,  0.,  0.,  0.,  0.,  0.,  0.,  0.,  0.,  0.,  0.,  0.,\n",
      "        0.,  0.,  0.,  0.,  0.,  0.,  0.,  0.,  0.,  0.,  0.,  0.,  0.,\n",
      "        0.,  0.,  0.,  0.,  0.,  0.,  0.,  0.,  0.,  0.,  0.,  0.,  0.,\n",
      "        0.,  0.,  0.,  0.,  0.,  0.,  0.,  0.,  0.,  0.,  0.,  0.,  0.,\n",
      "        0.,  0.,  0.,  0.,  0.,  0.,  0.,  0.,  0.,  2.,  2.,  2.,  2.,\n",
      "        2.,  2.,  2.,  2.,  2.,  2.,  2.,  2.,  2.,  2.,  2.,  2.,  2.,\n",
      "        2.,  2.,  2.,  2.,  2.,  2.,  2.,  2.,  2.,  2.,  2.,  2.,  2.,\n",
      "        2.,  2.,  2.,  2.,  2.,  2.,  2.,  2.,  2.,  2.,  2.,  2.,  2.,\n",
      "        2.,  2.,  2.,  2.,  2.,  2.,  2.,  2.,  2.,  2.,  2.,  2.,  2.,\n",
      "        2.,  2.,  2.,  2.,  2.,  2.,  2.,  2.,  2.,  2.,  2.,  2.,  2.,\n",
      "        2.,  2.,  2.,  2.,  2.,  2.,  2.,  2.,  2.,  2.,  2.,  2.,  2.,\n",
      "        2.,  2.,  2.,  2.,  2.,  2.,  2.,  2.,  2.,  2.,  2.,  2.,  2.,\n",
      "        2.,  2.,  2.,  2.,  2.,  4.,  4.,  4.,  4.,  4.,  4.,  4.,  4.,\n",
      "        4.,  4.,  4.,  4.,  4.,  4.,  4.,  4.,  4.,  4.,  4.,  4.,  4.,\n",
      "        4.,  4.,  4.,  4.,  4.,  4.,  4.,  4.,  4.,  4.,  4.,  4.,  4.,\n",
      "        4.,  4.,  4.,  4.,  4.,  4.,  4.,  4.,  4.,  4.,  4.,  4.,  4.,\n",
      "        4.,  4.,  4.,  4.,  4.,  4.,  4.,  4.,  4.,  4.,  4.,  4.,  4.,\n",
      "        4.,  4.,  4.,  4.,  4.,  4.,  4.,  4.,  4.,  4.,  4.,  4.,  4.,\n",
      "        4.,  4.,  4.,  4.,  4.,  4.,  4.,  4.,  4.,  4.,  4.,  4.,  4.,\n",
      "        4.,  4.,  4.,  4.,  4.,  4.,  4.,  4.,  4.,  4.,  4.,  4.,  4.,\n",
      "        4.,  6.,  6.,  6.,  6.,  6.,  6.,  6.,  6.,  6.,  6.,  6.,  6.,\n",
      "        6.,  6.,  6.,  6.,  6.,  6.,  6.,  6.,  6.,  6.,  6.,  6.,  6.,\n",
      "        6.,  6.,  6.,  6.,  6.,  6.,  6.,  6.,  6.,  6.,  6.,  6.,  6.,\n",
      "        6.,  6.,  6.,  6.,  6.,  6.,  6.,  6.,  6.,  6.,  6.,  6.,  6.,\n",
      "        6.,  6.,  6.,  6.,  6.,  6.,  6.,  6.,  6.,  6.,  6.,  6.,  6.,\n",
      "        6.,  6.,  6.,  6.,  6.,  6.,  6.,  6.,  6.,  6.,  6.,  6.,  6.,\n",
      "        6.,  6.,  6.,  6.,  6.,  6.,  6.,  6.,  6.,  6.,  6.,  6.,  6.,\n",
      "        6.,  6.,  6.,  6.,  6.,  6.,  6.,  6.,  6.,  6.,  8.,  8.,  8.,\n",
      "        8.,  8.,  8.,  8.,  8.,  8.,  8.,  8.,  8.,  8.,  8.,  8.,  8.,\n",
      "        8.,  8.,  8.,  8.,  8.,  8.,  8.,  8.,  8.,  8.,  8.,  8.,  8.,\n",
      "        8.,  8.,  8.,  8.,  8.,  8.,  8.,  8.,  8.,  8.,  8.,  8.,  8.,\n",
      "        8.,  8.,  8.,  8.,  8.,  8.,  8.,  8.,  8.,  8.,  8.,  8.,  8.,\n",
      "        8.,  8.,  8.,  8.,  8.,  8.,  8.,  8.,  8.,  8.,  8.,  8.,  8.,\n",
      "        8.,  8.,  8.,  8.,  8.,  8.,  8.,  8.,  8.,  8.,  8.,  8.,  8.,\n",
      "        8.,  8.,  8.,  8.,  8.,  8.,  8.,  8.,  8.,  8.,  8.,  8.,  8.,\n",
      "        8.,  8.,  8.,  8.,  8.,  8., 11., 11., 11., 11., 11., 11., 11.,\n",
      "       11., 11., 11., 11., 11., 11., 11., 11., 11., 11., 11., 11., 11.,\n",
      "       11., 11., 11., 11., 11., 11., 11., 11., 11., 11., 11., 11., 11.,\n",
      "       11., 11., 11., 11., 11., 11., 11., 11., 11., 11., 11., 11., 11.,\n",
      "       11., 11., 11., 11., 11., 11., 11., 11., 11., 11., 11., 11., 11.,\n",
      "       11., 11., 11., 11., 11., 11., 11., 11., 11., 11., 11., 11., 11.,\n",
      "       11., 11., 11., 11., 11., 11., 11., 11., 11., 11., 11., 11., 11.,\n",
      "       11., 11., 11., 11., 11., 11., 11., 11., 11., 11., 11., 11., 11.,\n",
      "       11., 11., 13., 13., 13., 13., 13., 13., 13., 13., 13., 13., 13.,\n",
      "       13., 13., 13., 13., 13., 13., 13., 13., 13., 13., 13., 13., 13.,\n",
      "       13., 13., 13., 13., 13., 13., 13., 13., 13., 13., 13., 13., 13.,\n",
      "       13., 13., 13., 13., 13., 13., 13., 13., 13., 13., 13., 13., 13.,\n",
      "       13., 13., 13., 13., 13., 13., 13., 13., 13., 13., 13., 13., 13.,\n",
      "       13., 13., 13., 13., 13., 13., 13., 13., 13., 13., 13., 13., 13.,\n",
      "       13., 13., 13., 13., 13., 13., 13., 13., 13., 13., 13., 13., 13.,\n",
      "       13., 13., 13., 13., 13., 13., 13., 13., 13., 13., 13., 15., 15.,\n",
      "       15., 15., 15., 15., 15., 15., 15., 15., 15., 15., 15., 15., 15.,\n",
      "       15., 15., 15., 15., 15., 15., 15., 15., 15., 15., 15., 15., 15.,\n",
      "       15., 15., 15., 15., 15., 15., 15., 15., 15., 15., 15., 15., 15.,\n",
      "       15., 15., 15., 15., 15., 15., 15., 15., 15., 15., 15., 15., 15.,\n",
      "       15., 15., 15., 15., 15., 15., 15., 15., 15., 15., 15., 15., 15.,\n",
      "       15., 15., 15., 15., 15., 15., 15., 15., 15., 15., 15., 15., 15.,\n",
      "       15., 15., 15., 15., 15., 15., 15., 15., 15., 15., 15., 15., 15.,\n",
      "       15., 15., 15., 15., 15., 15., 15., 17., 17., 17., 17., 17., 17.,\n",
      "       17., 17., 17., 17., 17., 17., 17., 17., 17., 17., 17., 17., 17.,\n",
      "       17., 17., 17., 17., 17., 17., 17., 17., 17., 17., 17., 17., 17.,\n",
      "       17., 17., 17., 17., 17., 17., 17., 17., 17., 17., 17., 17., 17.,\n",
      "       17., 17., 17., 17., 17., 17., 17., 17., 17., 17., 17., 17., 17.,\n",
      "       17., 17., 17., 17., 17., 17., 17., 17., 17., 17., 17., 17., 17.,\n",
      "       17., 17., 17., 17., 17., 17., 17., 17., 17., 17., 17., 17., 17.,\n",
      "       17., 17., 17., 17., 17., 17., 17., 17., 17., 17., 17., 17., 17.,\n",
      "       17., 17., 17., 20., 20., 20., 20., 20., 20., 20., 20., 20., 20.,\n",
      "       20., 20., 20., 20., 20., 20., 20., 20., 20., 20., 20., 20., 20.,\n",
      "       20., 20., 20., 20., 20., 20., 20., 20., 20., 20., 20., 20., 20.,\n",
      "       20., 20., 20., 20., 20., 20., 20., 20., 20., 20., 20., 20., 20.,\n",
      "       20., 20., 20., 20., 20., 20., 20., 20., 20., 20., 20., 20., 20.,\n",
      "       20., 20., 20., 20., 20., 20., 20., 20., 20., 20., 20., 20., 20.,\n",
      "       20., 20., 20., 20., 20., 20., 20., 20., 20., 20., 20., 20., 20.,\n",
      "       20., 20., 20., 20., 20., 20., 20., 20., 20., 20., 20., 20.]), count_matrix=array([[  0,   0,   0,   0,   0],\n",
      "       [  0,   0,   0,   0,   0],\n",
      "       [  0,  10,   0,   0,   0],\n",
      "       ...,\n",
      "       [  1,   5, 178, 109, 107],\n",
      "       [  1, 102,  28,  88,   7],\n",
      "       [  1,  12,  31,  27,  80]], dtype=uint64), gene_names=None)\n"
     ]
    }
   ],
   "source": [
    "print(data)"
   ]
  },
  {
   "cell_type": "markdown",
   "id": "68ecc28c",
   "metadata": {},
   "source": [
    "Each row corresponds to a single cell; the first column contains time points, while other columns contain gene expression counts."
   ]
  },
  {
   "cell_type": "markdown",
   "id": "42c3f2d2",
   "metadata": {},
   "source": [
    "## Network Inference\n",
    "\n",
    "Here the main function is `model.fit()`. The first call may take a while due to the Numba compilation (activated by default)."
   ]
  },
  {
   "cell_type": "code",
   "execution_count": 19,
   "id": "71468476",
   "metadata": {},
   "outputs": [
    {
     "name": "stdout",
     "output_type": "stream",
     "text": [
      "[[-- 4.410149353085632 0.1700076780102996 0.19347177755374828\n",
      "  0.11206673054327636]\n",
      " [-- 4.694841953505675 2.15331757706931 2.1652497817702745\n",
      "  0.0839816286057263]\n",
      " [-- -0.06145056165174654 5.505552463573935 0.9502596941524062\n",
      "  0.6344477712400381]\n",
      " [-- -0.06410631558625213 0.4659841264349252 5.366531297765277\n",
      "  1.4120300891859632]\n",
      " [-- -2.150829524276971 0.41575192044125253 0.07937441828839277\n",
      "  5.071122398793442]]\n"
     ]
    }
   ],
   "source": [
    "model1 = NetworkModel()\n",
    "# Calibrate the model\n",
    "res = model1.fit(data).parameter\n",
    "# Show inferred links\n",
    "print(res.interaction)"
   ]
  },
  {
   "cell_type": "markdown",
   "id": "1e44ef01",
   "metadata": {},
   "source": [
    "\n",
    "Note that the first column of `model.inter` will always be 0 since the stimulus (gene 0) has no feedback by hypothesis. In order to better visualize the results, we can apply a cutoff to edge weights:"
   ]
  },
  {
   "cell_type": "code",
   "execution_count": 20,
   "id": "d7d842ce",
   "metadata": {},
   "outputs": [
    {
     "name": "stdout",
     "output_type": "stream",
     "text": [
      "[[-- 4.410149353085632 0.0 0.0 0.0]\n",
      " [-- 4.694841953505675 2.15331757706931 2.1652497817702745 0.0]\n",
      " [-- -0.0 5.505552463573935 0.0 0.0]\n",
      " [-- -0.0 0.0 5.366531297765277 1.4120300891859632]\n",
      " [-- -2.150829524276971 0.0 0.0 5.071122398793442]]\n"
     ]
    }
   ],
   "source": [
    "cutoff = 1\n",
    "inter_c = (np.abs(res.interaction) > cutoff) * res.interaction\n",
    "print(inter_c) "
   ]
  },
  {
   "cell_type": "markdown",
   "id": "553021ee",
   "metadata": {},
   "source": [
    "Hopefully this looks nice!"
   ]
  },
  {
   "cell_type": "code",
   "execution_count": 21,
   "id": "dc1af895",
   "metadata": {},
   "outputs": [
    {
     "data": {
      "image/png": "[encoded data removed]",
      "text/plain": [
       "<Figure size 500x500 with 1 Axes>"
      ]
     },
     "metadata": {},
     "output_type": "display_data"
    }
   ],
   "source": [
    "# Draw the network\n",
    "fig = plt.figure(figsize=(5,5))\n",
    "plot_network(inter_c, pos, axes=fig.gca(), names=names, scale=3)"
   ]
  },
  {
   "cell_type": "markdown",
   "id": "4671272e",
   "metadata": {},
   "source": [
    "Note that self-interactions are notoriously difficult to infer; they are usually not considered in performance evaluations."
   ]
  },
  {
   "cell_type": "markdown",
   "id": "736d3e68",
   "metadata": {},
   "source": [
    "### Option: disable Numba\n",
    "\n",
    "To perform inference without Numba acceleration, set the `use_numba` option to `False` (useful when Numba is not available or generates errors)."
   ]
  },
  {
   "cell_type": "code",
   "execution_count": 22,
   "id": "413bc4c1",
   "metadata": {},
   "outputs": [
    {
     "name": "stdout",
     "output_type": "stream",
     "text": [
      "[[-- 4.410149353085632 0.1700076780102996 0.19347177755374828\n",
      "  0.11206673054327636]\n",
      " [-- 4.694841953505675 2.15331757706931 2.1652497817702745\n",
      "  0.0839816286057263]\n",
      " [-- -0.06145056165174654 5.505552463573935 0.9502596941524062\n",
      "  0.6344477712400381]\n",
      " [-- -0.06410631558625213 0.4659841264349252 5.366531297765277\n",
      "  1.4120300891859632]\n",
      " [-- -2.150829524276971 0.41575192044125253 0.07937441828839277\n",
      "  5.071122398793442]]\n"
     ]
    }
   ],
   "source": [
    "from harissa.inference import Hartree\n",
    "model2 = NetworkModel(inference=Hartree(use_numba=False))\n",
    "# Calibrate the model\n",
    "model2.fit(data)\n",
    "# Show inferred links\n",
    "print(model2.parameter.interaction)"
   ]
  },
  {
   "cell_type": "markdown",
   "id": "6bb5ffe6",
   "metadata": {},
   "source": [
    "You can now delete `data.txt` and try to generate new data with different values for `C` (number of cells) to see its impact on performance."
   ]
  }
 ],
 "metadata": {
  "kernelspec": {
   "display_name": "Python 3 (ipykernel)",
   "language": "python",
   "name": "python3"
  },
  "language_info": {
   "codemirror_mode": {
    "name": "ipython",
    "version": 3
   },
   "file_extension": ".py",
   "mimetype": "text/x-python",
   "name": "python",
   "nbconvert_exporter": "python",
   "pygments_lexer": "ipython3",
   "version": "3.10.12"
  }
 },
 "nbformat": 4,
 "nbformat_minor": 5
}
