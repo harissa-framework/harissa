{
 "cells": [
  {
   "cell_type": "markdown",
   "id": "c4154c07",
   "metadata": {},
   "source": [
    "# Register\n",
    "\n",
    "## Networks\n",
    "\n",
    "### Display the registered networks\n",
    "\n",
    "To know which networks parameter are available, use the function\n",
    "`available_networks`."
   ]
  },
  {
   "cell_type": "code",
   "execution_count": 1,
   "id": "6129f493",
   "metadata": {},
   "outputs": [
    {
     "name": "stdout",
     "output_type": "stream",
     "text": [
      "['BN8', 'CN5', 'FN4', 'FN8', 'Trees10', 'Trees100', 'Trees20', 'Trees5', 'Trees50']\n"
     ]
    }
   ],
   "source": [
    "from harissa.benchmark import available_networks\n",
    "\n",
    "print(sorted(available_networks()))"
   ]
  },
  {
   "cell_type": "markdown",
   "id": "3844769b",
   "metadata": {},
   "source": [
    "## Register networks parameter\n",
    "\n",
    "To register your custom Inference method:\n",
    "\n",
    "1.  Implement a function that creates a `harissa.core.NetworkParameter`. \n",
    "For more details see the [harissa's networks](https://github.com/harissa-framework/harissa/tree/main/src/harissa/networks).\n",
    "\n",
    "    ```python\n",
    "    def repressilator():\n",
    "        n = NetworkParameter(3)\n",
    "        \n",
    "        # Basal gene activities\n",
    "        n.basal[1] = 5\n",
    "        n.basal[2] = 5\n",
    "        n.basal[3] = 5\n",
    "        \n",
    "        # Inhibitions in cycle\n",
    "        n.interaction[1,2] = -10\n",
    "        n.interaction[2,3] = -10\n",
    "        n.interaction[3,1] = -10\n",
    "\n",
    "        # Degradation rates (per unit of time)\n",
    "        n.degradation_rna[:] = 1.0\n",
    "        n.degradation_protein[:] = 0.2\n",
    "\n",
    "        n.burst_frequency_min[:] = 0.0 * n.degradation_rna\n",
    "        n.burst_frequency_max[:] = 2.0 * n.degradation_rna\n",
    "\n",
    "        # Creation rates\n",
    "        n.creation_rna[:] = n.degradation_rna * n.rna_scale() \n",
    "        n.creation_protein[:] = n.degradation_protein * n.protein_scale()\n",
    "\n",
    "        return n\n",
    "    ```\n",
    "\n",
    "2.  Register it with the `NetworksGenerator.register()` method."
   ]
  },
  {
   "cell_type": "code",
   "execution_count": 2,
   "id": "04fcf695",
   "metadata": {},
   "outputs": [
    {
     "name": "stdout",
     "output_type": "stream",
     "text": [
      "['BN8', 'CN5', 'FN4', 'FN8', 'RN3', 'Trees10', 'Trees100', 'Trees20', 'Trees5', 'Trees50']\n"
     ]
    }
   ],
   "source": [
    "from harissa import NetworkParameter\n",
    "from harissa.benchmark.generators import NetworksGenerator\n",
    "\n",
    "def repressilator():\n",
    "    n = NetworkParameter(3)\n",
    "    \n",
    "    # Basal gene activities\n",
    "    n.basal[1] = 5\n",
    "    n.basal[2] = 5\n",
    "    n.basal[3] = 5\n",
    "    \n",
    "    # Inhibitions in cycle\n",
    "    n.interaction[1,2] = -10\n",
    "    n.interaction[2,3] = -10\n",
    "    n.interaction[3,1] = -10\n",
    "\n",
    "    # Degradation rates (per unit of time)\n",
    "    n.degradation_rna[:] = 1.0\n",
    "    n.degradation_protein[:] = 0.2\n",
    "\n",
    "    n.burst_frequency_min[:] = 0.0 * n.degradation_rna\n",
    "    n.burst_frequency_max[:] = 2.0 * n.degradation_rna\n",
    "\n",
    "    # Creation rates\n",
    "    n.creation_rna[:] = n.degradation_rna * n.rna_scale() \n",
    "    n.creation_protein[:] = n.degradation_protein * n.protein_scale()\n",
    "\n",
    "    return n\n",
    "\n",
    "NetworksGenerator.register(\n",
    "    name='RN3',\n",
    "    network=repressilator\n",
    ")\n",
    "\n",
    "print(sorted(available_networks()))"
   ]
  },
  {
   "cell_type": "markdown",
   "id": "19960daa",
   "metadata": {},
   "source": [
    "## Inferences\n",
    "\n",
    "### Display the registered inference methods\n",
    "\n",
    "To know which inference methods are available, use the function `available_inferences`."
   ]
  },
  {
   "cell_type": "code",
   "execution_count": 3,
   "id": "5d5763b4",
   "metadata": {},
   "outputs": [
    {
     "name": "stdout",
     "output_type": "stream",
     "text": [
      "['Cardamom', 'Hartree', 'Pearson']\n"
     ]
    }
   ],
   "source": [
    "from harissa.benchmark import available_inferences\n",
    "\n",
    "print(sorted(available_inferences()))"
   ]
  },
  {
   "cell_type": "markdown",
   "id": "aaab47ef",
   "metadata": {},
   "source": [
    "### Register inference methods\n",
    "\n",
    "To register your custom Inference method:\n",
    "\n",
    "1.  Implement a subclass of `harissa.core.Inference`. \n",
    "For more details see the [harissa's inferences](https://github.com/harissa-framework/harissa/tree/main/src/harissa/inference) or the implementations examples inside the [examples folder](https://github.com/harissa-framework/benchmark/tree/main/examples).\n",
    "\n",
    "    ```python\n",
    "    class Genie3(Inference):\n",
    "        @property\n",
    "        def directed(self):\n",
    "            return True\n",
    "        \n",
    "        def run(self,\n",
    "            data: Dataset,\n",
    "            param: NetworkParameter\n",
    "        ) -> Inference.Result:\n",
    "            param.interaction[:] = genie3(data.count_matrix)\n",
    "            return Inference.Result(param)\n",
    "    ```\n",
    "\n",
    "2.  Register it with the `InferencesGenerator.register()` \n",
    "    method along with its name and its colors \n",
    "    (used for the plots inside the reports). \n",
    "    `InferencesGenerator` provides a color map but your custom colors by passing a tuple of RGBA values."
   ]
  },
  {
   "cell_type": "code",
   "execution_count": 4,
   "id": "30073bad",
   "metadata": {},
   "outputs": [
    {
     "name": "stdout",
     "output_type": "stream",
     "text": [
      "['Cardamom', 'Genie3', 'Hartree', 'Pearson', 'Sincerities']\n"
     ]
    }
   ],
   "source": [
    "import sys\n",
    "sys.path.append('../examples')\n",
    "import numpy as np\n",
    "\n",
    "from harissa.benchmark.generators import InferencesGenerator\n",
    "\n",
    "\n",
    "from genie3 import Genie3\n",
    "from sincerities import Sincerities\n",
    "\n",
    "InferencesGenerator.register(\n",
    "    name='Genie3', \n",
    "    inference=Genie3,\n",
    "    colors=np.array([\n",
    "        InferencesGenerator.color_map(0), \n",
    "        InferencesGenerator.color_map(1)\n",
    "    ])\n",
    "    \n",
    ")\n",
    "\n",
    "InferencesGenerator.register(\n",
    "    name='Sincerities', \n",
    "    inference=Sincerities,\n",
    "    colors=np.array([\n",
    "        InferencesGenerator.color_map(2),\n",
    "        InferencesGenerator.color_map(3)\n",
    "    ])\n",
    ")\n",
    "\n",
    "print(sorted(available_inferences()))"
   ]
  }
 ],
 "metadata": {
  "kernelspec": {
   "display_name": "Python 3 (ipykernel)",
   "language": "python",
   "name": "python3"
  },
  "language_info": {
   "codemirror_mode": {
    "name": "ipython",
    "version": 3
   },
   "file_extension": ".py",
   "mimetype": "text/x-python",
   "name": "python",
   "nbconvert_exporter": "python",
   "pygments_lexer": "ipython3",
   "version": "3.10.12"
  }
 },
 "nbformat": 4,
 "nbformat_minor": 5
}
